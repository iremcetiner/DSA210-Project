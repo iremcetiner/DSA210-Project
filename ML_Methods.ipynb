{
 "cells": [
  {
   "cell_type": "markdown",
   "id": "c712fbe1-6156-4f47-8f47-183716510b5a",
   "metadata": {},
   "source": [
    "1. Load and Preprocess Data"
   ]
  },
  {
   "cell_type": "code",
   "execution_count": null,
   "id": "1ef0e39b-1c4a-4061-9729-3477a795b293",
   "metadata": {},
   "outputs": [],
   "source": [
    "import pandas as pd\n",
    "from sklearn.model_selection import train_test_split\n",
    "from sklearn.metrics import mean_squared_error, r2_score\n",
    "from sklearn.tree import DecisionTreeRegressor\n",
    "from sklearn.ensemble import RandomForestRegressor\n",
    "import matplotlib.pyplot as plt\n",
    "\n",
    "# Load the data\n",
    "df = pd.read_excel(\"StressLevels_Weather_Data_ WithExams_Last (1).xlsx\")\n",
    "df['Date'] = pd.to_datetime(df['Date'])\n",
    "\n",
    "# Enrich features\n",
    "df['is_weekend'] = df['Date'].dt.dayofweek >= 5\n",
    "df['StressLevelBefore'] = df.groupby('Date')['Stress Level'].shift(1)\n",
    "df['StressLevelDifference'] = df['Stress Level'] - df['StressLevelBefore']\n",
    "df = df.dropna()\n",
    "\n",
    "# Encode categorical weather condition\n",
    "weather_encoded = pd.get_dummies(df['Weather Condition'], prefix='Weather', drop_first=True)\n",
    "\n",
    "# Select features\n",
    "X = pd.concat([df[['Temperature (°C)', 'StressLevelBefore']], weather_encoded], axis=1)\n",
    "y = df['StressLevelDifference']\n",
    "\n",
    "X_train, X_test, y_train, y_test = train_test_split(X, y, test_size=0.2, random_state=42)"
   ]
  },
  {
   "cell_type": "markdown",
   "id": "9c965f08-0603-440f-ac9b-483dabe9b02b",
   "metadata": {},
   "source": [
    "2. Train Models"
   ]
  },
  {
   "cell_type": "code",
   "execution_count": null,
   "id": "0443801d-fc50-48e1-baf4-3923e0faf32b",
   "metadata": {},
   "outputs": [],
   "source": [
    "models = {\n",
    "    \"Decision Tree\": DecisionTreeRegressor(random_state=42),\n",
    "    \"Random Forest\": RandomForestRegressor(random_state=42, n_estimators=100)\n",
    "}\n",
    "\n",
    "results = {}\n",
    "for name, model in models.items():\n",
    "    model.fit(X_train, y_train)\n",
    "    y_pred = model.predict(X_test)\n",
    "    mse = mean_squared_error(y_test, y_pred)\n",
    "    r2 = r2_score(y_test, y_pred)\n",
    "    results[name] = {\"MSE\": mse, \"R²\": r2}\n",
    "    print(f\"{name} Results:\\n - Mean Squared Error: {mse:.2f}\\n - R² Score: {r2:.2f}\")\n",
    "\n",
    "    # Plot predictions\n",
    "    plt.figure(figsize=(10, 6))\n",
    "    plt.scatter(y_test, y_pred, alpha=0.6, label=name)\n",
    "    plt.plot([y_test.min(), y_test.max()], [y_test.min(), y_test.max()], color='red', linestyle='--', label=\"Ideal Fit\")\n",
    "    plt.title(f\"{name}: Actual vs. Predicted\")\n",
    "    plt.xlabel(\"Actual Stress Level Difference\")\n",
    "    plt.ylabel(\"Predicted Stress Level Difference\")\n",
    "    plt.legend()\n",
    "    plt.grid(True)\n",
    "    plt.show()"
   ]
  },
  {
   "cell_type": "markdown",
   "id": "9c91aae5-180b-4677-8496-d942c0020101",
   "metadata": {},
   "source": [
    "3. Model Evaluation - Identify Best Model"
   ]
  },
  {
   "cell_type": "code",
   "execution_count": null,
   "id": "5538417e-791d-4b9f-b5cf-1da2ac44c452",
   "metadata": {},
   "outputs": [],
   "source": []
  }
 ],
 "metadata": {
  "kernelspec": {
   "display_name": "Python 3 (ipykernel)",
   "language": "python",
   "name": "python3"
  },
  "language_info": {
   "codemirror_mode": {
    "name": "ipython",
    "version": 3
   },
   "file_extension": ".py",
   "mimetype": "text/x-python",
   "name": "python",
   "nbconvert_exporter": "python",
   "pygments_lexer": "ipython3",
   "version": "3.12.4"
  }
 },
 "nbformat": 4,
 "nbformat_minor": 5
}
